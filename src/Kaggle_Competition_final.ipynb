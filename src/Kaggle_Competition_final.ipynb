{
 "cells": [
  {
   "cell_type": "markdown",
   "id": "53897189",
   "metadata": {},
   "source": [
    "### 1. Import all the necessary libraries"
   ]
  },
  {
   "cell_type": "code",
   "execution_count": null,
   "id": "77dad5cb",
   "metadata": {},
   "outputs": [],
   "source": [
    "import torch\n",
    "import torchvision\n",
    "import numpy as np\n",
    "import pandas as pd\n",
    "import matplotlib.pyplot as plt\n",
    "import torch.optim as optim\n",
    "import category_encoders as ce\n",
    "import math\n",
    "%matplotlib inline"
   ]
  },
  {
   "cell_type": "code",
   "execution_count": null,
   "id": "e0312314",
   "metadata": {},
   "outputs": [],
   "source": [
    "import datetime\n",
    "\n",
    "from sklearn.model_selection import train_test_split\n",
    "from sklearn.preprocessing import StandardScaler\n",
    "\n",
    "from math import sqrt\n",
    "\n",
    "from sklearn.tree import DecisionTreeRegressor\n",
    "from sklearn.ensemble import RandomForestRegressor\n",
    "from sklearn.ensemble import GradientBoostingRegressor\n",
    "from sklearn.metrics import mean_squared_error as mse\n",
    "from sklearn.metrics import r2_score\n",
    "import xgboost"
   ]
  },
  {
   "cell_type": "markdown",
   "id": "6a30a6ae",
   "metadata": {},
   "source": [
    "### 2. Loading the Dataset"
   ]
  },
  {
   "cell_type": "code",
   "execution_count": null,
   "id": "b5c3ff45",
   "metadata": {},
   "outputs": [],
   "source": [
    "df_tr = pd.read_csv(\"../data/train.csv\")\n",
    "df_tr.head()"
   ]
  },
  {
   "cell_type": "markdown",
   "id": "78d08ade",
   "metadata": {},
   "source": [
    "### 3. Get Computed Time from POLYLINE\n",
    "\n",
    "Our goal is to predict the travel-time of the taxi, which can be derived from the POLYLINE length.\n",
    "\n",
    "Recall:\n",
    "\n",
    "```\n",
    "The travel time of the trip (the prediction target of this project) is defined as the (number of points-1) x 15 seconds. \n",
    "For example, a trip with 101 data points in POLYLINE has a length of (101-1) * 15 = 1500 seconds. Some trips have missing data points in POLYLINE, indicated by MISSING_DATA column, and it is part of the challenge how you utilize this knowledge.\n",
    "```\n"
   ]
  },
  {
   "cell_type": "code",
   "execution_count": null,
   "id": "137aba93",
   "metadata": {},
   "outputs": [],
   "source": [
    "# Over every single \n",
    "def polyline_to_trip_duration(polyline):\n",
    "  return max(polyline.count(\"[\") - 1, 0) * 15\n",
    "\n",
    "# This code creates a new column, \"LEN\", in our dataframe. The value is\n",
    "# the (polyline_length - 1) * 15\n",
    "df_tr[\"LEN\"] = df_tr[\"POLYLINE\"].apply(polyline_to_trip_duration)"
   ]
  },
  {
   "cell_type": "markdown",
   "id": "7c16cb37",
   "metadata": {},
   "source": [
    "### 4. Test and Extract the features: (Original Call + HR + WK + MON + TAXI_ID)"
   ]
  },
  {
   "cell_type": "code",
   "execution_count": null,
   "id": "15b58b42",
   "metadata": {},
   "outputs": [],
   "source": [
    "# Verify our guesses of the patterns of TAXI_ID such that all the IDs are in the form of \n",
    "# 20000xxx by substracting all the numbers by 20000000 and check if they are between the \n",
    "# range [0,1000).\n",
    "def TAXI_ID_pattern_checker(x):\n",
    "    # Test if the only last 3 digits of the TRIP_ID exhibit a pattern\n",
    "    for idx in range(len(x)):\n",
    "        if (x[idx]-20000000) < 0 or (x[idx]-20000000) >= 1000:\n",
    "            return False\n",
    "    return True\n",
    "\n",
    "if TAXI_ID_pattern_checker(df_tr[\"TAXI_ID\"]):\n",
    "    print(\"Pattern is found!\")\n",
    "\n",
    "# Note that the only last three digits of the TAXI_ID are nonzero.\n",
    "def parse_TAXI_ID(x):\n",
    "    return (x % pow(10,3)) \n",
    "\n",
    "df_tr[\"Unique_TAXI_ID\"] = df_tr[\"TAXI_ID\"].apply(parse_TAXI_ID)"
   ]
  },
  {
   "cell_type": "code",
   "execution_count": null,
   "id": "6abbca66",
   "metadata": {},
   "outputs": [],
   "source": [
    "from datetime import datetime\n",
    "def parse_time(x):\n",
    "  # We are using python's builtin datetime library\n",
    "  # https://docs.python.org/3/library/datetime.html#datetime.date.fromtimestamp\n",
    "\n",
    "  # Each x is essentially a 1 row, 1 column pandas Series\n",
    "  dt = datetime.fromtimestamp(x[\"TIMESTAMP\"])\n",
    "  return dt.year, dt.month, dt.day, dt.hour, dt.weekday(), dt.minute\n",
    "\n",
    "# Because we are assigning multiple values at a time, we need to \"expand\" our computed (year, month, day, hour, weekday) tuples on \n",
    "# the column axis, or axis 1\n",
    "# https://pandas.pydata.org/docs/reference/api/pandas.DataFrame.apply.html\n",
    "df_tr[[\"YR\", \"MON\", \"DAY\", \"HR\", \"WK\", \"MIN\"]] = df_tr[[\"TIMESTAMP\"]].apply(parse_time, axis=1, result_type=\"expand\")"
   ]
  },
  {
   "cell_type": "code",
   "execution_count": null,
   "id": "9bb6102b",
   "metadata": {},
   "outputs": [],
   "source": [
    "# Dropping the missing data \n",
    "df_tr.drop(df_tr[df_tr['MISSING_DATA'] == True].index, inplace = True)\n",
    "df_tr.drop(df_tr[df_tr['POLYLINE'] =='[]']['POLYLINE'].index, inplace = True)"
   ]
  },
  {
   "cell_type": "code",
   "execution_count": null,
   "id": "ce8e2ea1",
   "metadata": {},
   "outputs": [],
   "source": [
    "import copy\n",
    "df_test = pd.read_csv(\"../test/test_public.csv\")\n",
    "df_test[[\"YR\", \"MON\", \"DAY\", \"HR\", \"WK\", \"MIN\"]] = df_test[[\"TIMESTAMP\"]].apply(parse_time, axis=1, result_type=\"expand\")\n",
    "df_test[\"Unique_TAXI_ID\"] = df_tr[\"TAXI_ID\"].apply(parse_TAXI_ID)\n",
    "\n",
    "df_test_id = np.unique(df_test[\"Unique_TAXI_ID\"])\n",
    "df_test_min = np.unique(df_test[\"MIN\"])\n",
    "df_test_hr = np.unique(df_test[\"HR\"])\n",
    "df_test_wk = np.unique(df_test[\"WK\"])\n",
    "df_test_day = np.unique(df_test[\"DAY\"])\n",
    "df_test_mon = np.unique(df_test[\"MON\"])\n",
    "df_test_stand = np.unique(df_test[\"ORIGIN_STAND\"])\n",
    "df_test_call = np.unique(df_test[\"ORIGIN_CALL\"])"
   ]
  },
  {
   "cell_type": "markdown",
   "id": "27ec98c0",
   "metadata": {},
   "source": [
    "### 5. Random Forest"
   ]
  },
  {
   "cell_type": "code",
   "execution_count": null,
   "id": "185a6adb",
   "metadata": {},
   "outputs": [],
   "source": [
    "indices = pd.read_csv(\"./train_indices.csv\")\n",
    "df_tr_copy = copy.deepcopy(df_tr[df_tr[\"CALL_TYPE\"]==\"C\"])\n",
    "df_tr_copy = df_tr_copy[indices]\n",
    "\n",
    "X_typeC = df_tr_copy[[\"MON\", \"WK\", \"HR\"]]\n",
    "\n",
    "y_typeC = df_tr_copy['LEN']\n",
    "\n",
    "# Random Forest - Call type C\n",
    "random_regressor_C = RandomForestRegressor()\n",
    "random_regressor_C.fit(X_typeC, y_typeC)\n",
    "\n",
    "y_train_pred = random_regressor_C.predict(X_typeC)\n",
    "\n",
    "print(\"Train Results for Random Forest Regressor Model:\")\n",
    "print(50 * '-')\n",
    "print(\"Root mean squared error: \", sqrt(mse(y_typeC.values, y_train_pred)))\n",
    "print(\"R-squared: \", r2_score(y_typeC.values, y_train_pred))"
   ]
  },
  {
   "cell_type": "code",
   "execution_count": null,
   "id": "3c99efd4",
   "metadata": {},
   "outputs": [],
   "source": [
    "test_pred_C = test_pred"
   ]
  },
  {
   "cell_type": "code",
   "execution_count": null,
   "id": "39a26980",
   "metadata": {},
   "outputs": [],
   "source": [
    "df_tr_copy = copy.deepcopy(df_tr[df_tr[\"CALL_TYPE\"]==\"B\"])\n",
    "\n",
    "mask = df_tr_copy['Unique_TAXI_ID'].isin(df_test_id)\n",
    "df_tr_copy = df_tr_copy[mask]\n",
    "\n",
    "df_tr_copy = df_tr_copy[[\"MON\",\"WK\",\"HR\", \"ORIGIN_STAND\",\"DAY\", \"LEN\"]]\n",
    "df_tr_copy = df_tr_copy.dropna()\n",
    "\n",
    "X_typeB = df_tr_copy[[\"WK\", \"MON\",\"ORIGIN_STAND\"]]\n",
    "\n",
    "y_typeB = df_tr_copy['LEN']\n",
    "\n",
    "\n",
    "s = StandardScaler()\n",
    "X_typeB = s.fit_transform(X_typeB)\n",
    "\n",
    "# Random Forest - Call type B\n",
    "random_regressor_B = RandomForestRegressor()\n",
    "random_regressor_B.fit(X_typeB, y_typeB)\n",
    "\n",
    "y_train_pred = random_regressor_B.predict(X_typeB)\n",
    "\n",
    "print(\"Train Results for Random Forest Regressor Model:\")\n",
    "print(50 * '-')\n",
    "print(\"Root mean squared error: \", sqrt(mse(y_typeB.values, y_train_pred)))\n",
    "print(\"R-squared: \", r2_score(y_typeB.values, y_train_pred))"
   ]
  },
  {
   "cell_type": "code",
   "execution_count": null,
   "id": "fef5c9ab",
   "metadata": {},
   "outputs": [],
   "source": [
    "test_pred_B = test_pred"
   ]
  },
  {
   "cell_type": "code",
   "execution_count": null,
   "id": "bc8723fd",
   "metadata": {},
   "outputs": [],
   "source": [
    "print(f'{datetime.now()} 开始训练结束...')\n",
    "\n",
    "df_tr_copy = copy.deepcopy(df_tr[df_tr[\"CALL_TYPE\"]==\"A\"])\n",
    "\n",
    "mask = df_tr_copy['Unique_TAXI_ID'].isin(df_test_id)\n",
    "df_tr_copy = df_tr_copy[mask]\n",
    "mask = df_tr_copy['HR'].isin(df_test_hr)\n",
    "df_tr_copy = df_tr_copy[mask]\n",
    "mask = df_tr_copy['WK'].isin(df_test_wk)\n",
    "df_tr_copy = df_tr_copy[mask]\n",
    "mask = df_tr_copy['MON'].isin(df_test_mon)\n",
    "df_tr_copy = df_tr_copy[mask]\n",
    "mask = df_tr_copy['ORIGIN_CALL'].isin(df_test_call)\n",
    "df_tr_copy = df_tr_copy[mask]\n",
    "\n",
    "\n",
    "df_tr_copy = df_tr_copy[[\"MON\",\"WK\",\"DAY\",\"HR\", \"ORIGIN_CALL\",'Unique_TAXI_ID', \"LEN\"]]\n",
    "df_tr_copy = df_tr_copy.dropna()\n",
    "\n",
    "X_typeA = df_tr_copy[[ \"HR\" ,\"WK\",\"ORIGIN_CALL\"]]\n",
    "\n",
    "y_typeA = df_tr_copy['LEN']\n",
    "\n",
    "s = StandardScaler()\n",
    "X_typeA = s.fit_transform(X_typeA)\n",
    "\n",
    "# Random Forest - Call type A with id\n",
    "\n",
    "random_regressor_A = RandomForestRegressor()\n",
    "random_regressor_A.fit(X_typeA, y_typeA)\n",
    "\n",
    "y_train_pred = random_regressor_A.predict(X_typeA)\n",
    "\n",
    "print(\"Train Results for Random Forest Regressor Model:\")\n",
    "print(50 * '-')\n",
    "print(\"Root mean squared error: \", sqrt(mse(y_typeA.values, y_train_pred)))\n",
    "print(\"R-squared: \", r2_score(y_typeA.values, y_train_pred))"
   ]
  },
  {
   "cell_type": "code",
   "execution_count": null,
   "id": "7bc299ee",
   "metadata": {},
   "outputs": [],
   "source": [
    "index_A = 0\n",
    "\n",
    "for index, row in df_sample.iterrows():\n",
    "    if (row[\"TRIP_ID\"] == df_test[\"TRIP_ID\"].iloc[index_A]):\n",
    "        df_sample[\"TRAVEL_TIME\"].iloc[index] = test_pred[index_A]\n",
    "        index_A = index_A + 1\n",
    "    if (index_A == 21):\n",
    "        break"
   ]
  },
  {
   "cell_type": "code",
   "execution_count": null,
   "id": "6eec3539",
   "metadata": {},
   "outputs": [],
   "source": [
    "df_tr_copy = copy.deepcopy(df_tr[df_tr[\"CALL_TYPE\"]==\"A\"])\n",
    "\n",
    "mask = df_tr_copy['HR'].isin(df_test_hr)\n",
    "df_tr_copy = df_tr_copy[mask]\n",
    "mask = df_tr_copy['WK'].isin(df_test_wk)\n",
    "df_tr_copy = df_tr_copy[mask]\n",
    "mask = df_tr_copy['MON'].isin(df_test_mon)\n",
    "df_tr_copy = df_tr_copy[mask]\n",
    "mask = df_tr_copy['ORIGIN_CALL'].isin(df_test_call)\n",
    "df_tr_copy = df_tr_copy[mask]\n",
    "\n",
    "\n",
    "df_tr_copy = df_tr_copy[[\"MON\",\"WK\",\"DAY\",\"HR\", \"ORIGIN_CALL\",'Unique_TAXI_ID', \"LEN\"]]\n",
    "df_tr_copy = df_tr_copy.dropna()\n",
    "\n",
    "X_typeA = df_tr_copy[[ \"HR\" ,\"WK\",\"ORIGIN_CALL\"]]\n",
    "\n",
    "y_typeA = df_tr_copy['LEN']\n",
    "\n",
    "s = StandardScaler()\n",
    "X_typeA = s.fit_transform(X_typeA)\n",
    "\n",
    "# Random Forest - Call type A with no id\n",
    "\n",
    "random_regressor_A = RandomForestRegressor()\n",
    "random_regressor_A.fit(X_typeA, y_typeA)\n",
    "\n",
    "y_train_pred = random_regressor_A.predict(X_typeA)\n",
    "\n",
    "print(\"Train Results for Random Forest Regressor Model:\")\n",
    "print(50 * '-')\n",
    "print(\"Root mean squared error: \", sqrt(mse(y_typeA.values, y_train_pred)))\n",
    "print(\"R-squared: \", r2_score(y_typeA.values, y_train_pred))"
   ]
  },
  {
   "cell_type": "code",
   "execution_count": null,
   "id": "67c94a11",
   "metadata": {},
   "outputs": [],
   "source": [
    "index_A = 0\n",
    "\n",
    "for index, row in df_sample.iterrows():\n",
    "    if (row[\"TRIP_ID\"] == df_test[\"TRIP_ID\"].iloc[index_A]):\n",
    "        df_sample[\"TRAVEL_TIME\"].iloc[index] = test_pred[index_A]\n",
    "        index_A = index_A + 1\n",
    "    if (index_A == 51):\n",
    "        break"
   ]
  },
  {
   "cell_type": "markdown",
   "id": "6afe9b66",
   "metadata": {},
   "source": [
    "### 6. Saving"
   ]
  },
  {
   "cell_type": "code",
   "execution_count": null,
   "id": "3f830814",
   "metadata": {},
   "outputs": [],
   "source": [
    "df_test = pd.read_csv(\"../test/test_public.csv\")\n",
    "\n",
    "index_A = 0\n",
    "index_B = 0\n",
    "index_C = 0\n",
    "\n",
    "for index, row in df_test.iterrows():\n",
    "    if (row[\"CALL_TYPE\"]==\"A\"):\n",
    "        df_sample[\"TRAVEL_TIME\"].iloc[index] = test_pred_A[index_A]\n",
    "        index_A = index_A + 1\n",
    "    if (row[\"CALL_TYPE\"]==\"B\"):\n",
    "        df_sample[\"TRAVEL_TIME\"].iloc[index] = test_pred_B[index_B]\n",
    "        index_B = index_B + 1\n",
    "    elif (row[\"CALL_TYPE\"]==\"C\"):\n",
    "        df_sample[\"TRAVEL_TIME\"].iloc[index] = test_pred_C[index_C]\n",
    "        index_C = index_C + 1\n",
    "\n",
    "print(df_sample)"
   ]
  },
  {
   "cell_type": "code",
   "execution_count": null,
   "id": "8c3acdb5",
   "metadata": {},
   "outputs": [],
   "source": [
    "df_sample.to_csv(\"./my_pred.csv\", index=None)"
   ]
  }
 ],
 "metadata": {
  "kernelspec": {
   "display_name": "Python 3 (ipykernel)",
   "language": "python",
   "name": "python3"
  },
  "language_info": {
   "codemirror_mode": {
    "name": "ipython",
    "version": 3
   },
   "file_extension": ".py",
   "mimetype": "text/x-python",
   "name": "python",
   "nbconvert_exporter": "python",
   "pygments_lexer": "ipython3",
   "version": "3.9.5"
  }
 },
 "nbformat": 4,
 "nbformat_minor": 5
}
