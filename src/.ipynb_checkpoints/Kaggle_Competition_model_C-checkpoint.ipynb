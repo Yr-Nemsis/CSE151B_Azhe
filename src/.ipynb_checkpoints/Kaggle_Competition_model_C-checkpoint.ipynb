{
 "cells": [
  {
   "cell_type": "markdown",
   "id": "53897189",
   "metadata": {},
   "source": [
    "### 1. Import all the necessary libraries"
   ]
  },
  {
   "cell_type": "code",
   "execution_count": 1,
   "id": "77dad5cb",
   "metadata": {},
   "outputs": [],
   "source": [
    "import torch\n",
    "import torchvision\n",
    "import numpy as np\n",
    "import pandas as pd\n",
    "import matplotlib.pyplot as plt\n",
    "import torch.optim as optim\n",
    "import category_encoders as ce\n",
    "import math\n",
    "%matplotlib inline"
   ]
  },
  {
   "cell_type": "markdown",
   "id": "6a30a6ae",
   "metadata": {},
   "source": [
    "### 2. Loading the Dataset"
   ]
  },
  {
   "cell_type": "code",
   "execution_count": 2,
   "id": "b5c3ff45",
   "metadata": {},
   "outputs": [
    {
     "data": {
      "text/html": [
       "<div>\n",
       "<style scoped>\n",
       "    .dataframe tbody tr th:only-of-type {\n",
       "        vertical-align: middle;\n",
       "    }\n",
       "\n",
       "    .dataframe tbody tr th {\n",
       "        vertical-align: top;\n",
       "    }\n",
       "\n",
       "    .dataframe thead th {\n",
       "        text-align: right;\n",
       "    }\n",
       "</style>\n",
       "<table border=\"1\" class=\"dataframe\">\n",
       "  <thead>\n",
       "    <tr style=\"text-align: right;\">\n",
       "      <th></th>\n",
       "      <th>TRIP_ID</th>\n",
       "      <th>CALL_TYPE</th>\n",
       "      <th>ORIGIN_CALL</th>\n",
       "      <th>ORIGIN_STAND</th>\n",
       "      <th>TAXI_ID</th>\n",
       "      <th>TIMESTAMP</th>\n",
       "      <th>DAY_TYPE</th>\n",
       "      <th>MISSING_DATA</th>\n",
       "      <th>POLYLINE</th>\n",
       "    </tr>\n",
       "  </thead>\n",
       "  <tbody>\n",
       "    <tr>\n",
       "      <th>0</th>\n",
       "      <td>1372636858620000589</td>\n",
       "      <td>C</td>\n",
       "      <td>NaN</td>\n",
       "      <td>NaN</td>\n",
       "      <td>20000589</td>\n",
       "      <td>1372636858</td>\n",
       "      <td>A</td>\n",
       "      <td>False</td>\n",
       "      <td>[[-8.618643,41.141412],[-8.618499,41.141376],[...</td>\n",
       "    </tr>\n",
       "    <tr>\n",
       "      <th>1</th>\n",
       "      <td>1372637303620000596</td>\n",
       "      <td>B</td>\n",
       "      <td>NaN</td>\n",
       "      <td>7.0</td>\n",
       "      <td>20000596</td>\n",
       "      <td>1372637303</td>\n",
       "      <td>A</td>\n",
       "      <td>False</td>\n",
       "      <td>[[-8.639847,41.159826],[-8.640351,41.159871],[...</td>\n",
       "    </tr>\n",
       "    <tr>\n",
       "      <th>2</th>\n",
       "      <td>1372636951620000320</td>\n",
       "      <td>C</td>\n",
       "      <td>NaN</td>\n",
       "      <td>NaN</td>\n",
       "      <td>20000320</td>\n",
       "      <td>1372636951</td>\n",
       "      <td>A</td>\n",
       "      <td>False</td>\n",
       "      <td>[[-8.612964,41.140359],[-8.613378,41.14035],[-...</td>\n",
       "    </tr>\n",
       "    <tr>\n",
       "      <th>3</th>\n",
       "      <td>1372636854620000520</td>\n",
       "      <td>C</td>\n",
       "      <td>NaN</td>\n",
       "      <td>NaN</td>\n",
       "      <td>20000520</td>\n",
       "      <td>1372636854</td>\n",
       "      <td>A</td>\n",
       "      <td>False</td>\n",
       "      <td>[[-8.574678,41.151951],[-8.574705,41.151942],[...</td>\n",
       "    </tr>\n",
       "    <tr>\n",
       "      <th>4</th>\n",
       "      <td>1372637091620000337</td>\n",
       "      <td>C</td>\n",
       "      <td>NaN</td>\n",
       "      <td>NaN</td>\n",
       "      <td>20000337</td>\n",
       "      <td>1372637091</td>\n",
       "      <td>A</td>\n",
       "      <td>False</td>\n",
       "      <td>[[-8.645994,41.18049],[-8.645949,41.180517],[-...</td>\n",
       "    </tr>\n",
       "  </tbody>\n",
       "</table>\n",
       "</div>"
      ],
      "text/plain": [
       "               TRIP_ID CALL_TYPE  ORIGIN_CALL  ORIGIN_STAND   TAXI_ID  \\\n",
       "0  1372636858620000589         C          NaN           NaN  20000589   \n",
       "1  1372637303620000596         B          NaN           7.0  20000596   \n",
       "2  1372636951620000320         C          NaN           NaN  20000320   \n",
       "3  1372636854620000520         C          NaN           NaN  20000520   \n",
       "4  1372637091620000337         C          NaN           NaN  20000337   \n",
       "\n",
       "    TIMESTAMP DAY_TYPE  MISSING_DATA  \\\n",
       "0  1372636858        A         False   \n",
       "1  1372637303        A         False   \n",
       "2  1372636951        A         False   \n",
       "3  1372636854        A         False   \n",
       "4  1372637091        A         False   \n",
       "\n",
       "                                            POLYLINE  \n",
       "0  [[-8.618643,41.141412],[-8.618499,41.141376],[...  \n",
       "1  [[-8.639847,41.159826],[-8.640351,41.159871],[...  \n",
       "2  [[-8.612964,41.140359],[-8.613378,41.14035],[-...  \n",
       "3  [[-8.574678,41.151951],[-8.574705,41.151942],[...  \n",
       "4  [[-8.645994,41.18049],[-8.645949,41.180517],[-...  "
      ]
     },
     "execution_count": 2,
     "metadata": {},
     "output_type": "execute_result"
    }
   ],
   "source": [
    "df_tr = pd.read_csv(\"../data/train.csv\")\n",
    "df_tr.head()"
   ]
  },
  {
   "cell_type": "markdown",
   "id": "78d08ade",
   "metadata": {},
   "source": [
    "### 3. Get Computed Time from POLYLINE\n",
    "\n",
    "Our goal is to predict the travel-time of the taxi, which can be derived from the POLYLINE length.\n",
    "\n",
    "Recall:\n",
    "\n",
    "```\n",
    "The travel time of the trip (the prediction target of this project) is defined as the (number of points-1) x 15 seconds. \n",
    "For example, a trip with 101 data points in POLYLINE has a length of (101-1) * 15 = 1500 seconds. Some trips have missing data points in POLYLINE, indicated by MISSING_DATA column, and it is part of the challenge how you utilize this knowledge.\n",
    "```\n"
   ]
  },
  {
   "cell_type": "code",
   "execution_count": 3,
   "id": "137aba93",
   "metadata": {},
   "outputs": [],
   "source": [
    "# Over every single \n",
    "def polyline_to_trip_duration(polyline):\n",
    "  return max(polyline.count(\"[\") - 1, 0) * 15\n",
    "\n",
    "# This code creates a new column, \"LEN\", in our dataframe. The value is\n",
    "# the (polyline_length - 1) * 15\n",
    "df_tr[\"LEN\"] = df_tr[\"POLYLINE\"].apply(polyline_to_trip_duration)"
   ]
  },
  {
   "cell_type": "markdown",
   "id": "7c16cb37",
   "metadata": {},
   "source": [
    "### 4. Test and Extract the features: (Original Call + HR + WK + MON + TAXI_ID)"
   ]
  },
  {
   "cell_type": "code",
   "execution_count": 4,
   "id": "15b58b42",
   "metadata": {},
   "outputs": [
    {
     "name": "stdout",
     "output_type": "stream",
     "text": [
      "Pattern is found!\n"
     ]
    }
   ],
   "source": [
    "# Verify our guesses of the patterns of TAXI_ID such that all the IDs are in the form of \n",
    "# 20000xxx by substracting all the numbers by 20000000 and check if they are between the \n",
    "# range [0,1000).\n",
    "def TAXI_ID_pattern_checker(x):\n",
    "    # Test if the only last 3 digits of the TRIP_ID exhibit a pattern\n",
    "    for idx in range(len(x)):\n",
    "        if (x[idx]-20000000) < 0 or (x[idx]-20000000) >= 1000:\n",
    "            return False\n",
    "    return True\n",
    "\n",
    "if TAXI_ID_pattern_checker(df_tr[\"TAXI_ID\"]):\n",
    "    print(\"Pattern is found!\")\n",
    "\n",
    "# Note that the only last three digits of the TAXI_ID are nonzero.\n",
    "def parse_TAXI_ID(x):\n",
    "    return (x % pow(10,3)) \n",
    "\n",
    "df_tr[\"Unique_TAXI_ID\"] = df_tr[\"TAXI_ID\"].apply(parse_TAXI_ID)"
   ]
  },
  {
   "cell_type": "code",
   "execution_count": 5,
   "id": "6abbca66",
   "metadata": {},
   "outputs": [],
   "source": [
    "from datetime import datetime\n",
    "def parse_time(x):\n",
    "  # We are using python's builtin datetime library\n",
    "  # https://docs.python.org/3/library/datetime.html#datetime.date.fromtimestamp\n",
    "\n",
    "  # Each x is essentially a 1 row, 1 column pandas Series\n",
    "  dt = datetime.fromtimestamp(x[\"TIMESTAMP\"])\n",
    "  return dt.year, dt.month, dt.day, dt.hour, dt.weekday()\n",
    "\n",
    "# Because we are assigning multiple values at a time, we need to \"expand\" our computed (year, month, day, hour, weekday) tuples on \n",
    "# the column axis, or axis 1\n",
    "# https://pandas.pydata.org/docs/reference/api/pandas.DataFrame.apply.html\n",
    "df_tr[[\"YR\", \"MON\", \"DAY\", \"HR\", \"WK\"]] = df_tr[[\"TIMESTAMP\"]].apply(parse_time, axis=1, result_type=\"expand\")"
   ]
  },
  {
   "cell_type": "code",
   "execution_count": 6,
   "id": "34ed9f66",
   "metadata": {},
   "outputs": [
    {
     "data": {
      "image/png": "[encoded data removed]",
      "text/plain": [
       "<Figure size 432x288 with 1 Axes>"
      ]
     },
     "metadata": {
      "needs_background": "light"
     },
     "output_type": "display_data"
    },
    {
     "name": "stdout",
     "output_type": "stream",
     "text": [
      "The correlation coefficient between HR and LEN is 0.0505823371366071\n",
      "The correlation coefficient between WK and LEN is -0.07664682906923777\n",
      "The correlation coefficient between MON and LEN is 0.0016607650792165602\n",
      "The correlation coefficient between TAXI_ID and LEN is 0.037376167986825456\n"
     ]
    }
   ],
   "source": [
    "outlier_threshold = 3\n",
    "\n",
    "# Trying to find relationship between \"ORIGIN_CALL\" and \"LEN\"\n",
    "type_C = df_tr[df_tr[\"CALL_TYPE\"]==\"C\"]\n",
    "\n",
    "mean, std = type_C[\"LEN\"].mean(), type_C[\"LEN\"].std()\n",
    "# \"Choose all data, where the trip length is less than 3 standard deviations away from the mean\"\n",
    "# This is to remove outliers. Otherwise, our plots would look very squished (since there are some\n",
    "# VERRRRRY long taxi trips in the dataset)\n",
    "df_trimmed_C = type_C[type_C[\"LEN\"] < mean + outlier_threshold * std]\n",
    "# df_trimmed_C = df_trimmed_C[df_trimmed_C[\"ORIGIN_STAND\"]]\n",
    "plt.scatter(df_trimmed_C[\"Unique_TAXI_ID\"], df_trimmed_C[\"LEN\"],s=5, alpha=0.5)\n",
    "plt.xlabel(\"Unique_TAXI_ID\")\n",
    "plt.ylabel(\"LEN\")\n",
    "plt.title(\"Relationship between Unique_TAXI_ID and LEN\")\n",
    "plt.show()\n",
    "\n",
    "print(\"The correlation coefficient between HR and LEN is {}\".format(df_trimmed_C[\"HR\"].corr(df_trimmed_C[\"LEN\"])))\n",
    "print(\"The correlation coefficient between WK and LEN is {}\".format(df_trimmed_C[\"WK\"].corr(df_trimmed_C[\"LEN\"])))\n",
    "print(\"The correlation coefficient between MON and LEN is {}\".format(df_trimmed_C[\"MON\"].corr(df_trimmed_C[\"LEN\"])))\n",
    "print(\"The correlation coefficient between TAXI_ID and LEN is {}\".format(df_trimmed_C[\"Unique_TAXI_ID\"].corr(df_trimmed_C[\"LEN\"])))"
   ]
  },
  {
   "cell_type": "code",
   "execution_count": 68,
   "id": "01d8383b",
   "metadata": {},
   "outputs": [
    {
     "name": "stdout",
     "output_type": "stream",
     "text": [
      "The correlation coefficient between HR and LEN is 0.00166669623597464\n",
      "The correlation coefficient between WK and LEN is -0.040204328992190536\n",
      "The correlation coefficient between TAXI_ID and LEN is -0.17264241638765776\n"
     ]
    }
   ],
   "source": [
    "df_trimmed_C = type_C[type_C[\"LEN\"] < mean + outlier_threshold * std]\n",
    "df_trimmed_C_1 = df_trimmed_C[(df_trimmed_C[\"Unique_TAXI_ID\"]>0) & (df_trimmed_C[\"Unique_TAXI_ID\"]<100)]\n",
    "# df_trimmed_C_2 = df_trimmed_C[(df_trimmed_C[\"Unique_TAXI_ID\"]>100) & (df_trimmed_C[\"Unique_TAXI_ID\"]<800)]\n",
    "# df_trimmed_C_3 = df_trimmed_C[(df_trimmed_C[\"Unique_TAXI_ID\"]>230) & (df_trimmed_C[\"Unique_TAXI_ID\"]<800)]\n",
    "\n",
    "print(\"The correlation coefficient between HR and LEN is {}\".format(df_trimmed_C_1[\"HR\"].corr(df_trimmed_C_1[\"LEN\"])))\n",
    "print(\"The correlation coefficient between WK and LEN is {}\".format(df_trimmed_C_1[\"WK\"].corr(df_trimmed_C_1[\"LEN\"])))\n",
    "print(\"The correlation coefficient between TAXI_ID and LEN is {}\".format(df_trimmed_C_1[\"Unique_TAXI_ID\"].corr(df_trimmed_C_1[\"LEN\"])))"
   ]
  },
  {
   "cell_type": "code",
   "execution_count": 69,
   "id": "6e4014ba",
   "metadata": {},
   "outputs": [
    {
     "name": "stdout",
     "output_type": "stream",
     "text": [
      "The correlation coefficient between HR and LEN is -0.07126364169758977\n",
      "The correlation coefficient between WK and LEN is -0.04578533264210134\n",
      "The correlation coefficient between TAXI_ID and LEN is -0.06293151731099683\n"
     ]
    }
   ],
   "source": [
    "df_trimmed_C_2 = df_trimmed_C[(df_trimmed_C[\"Unique_TAXI_ID\"]>800) & (df_trimmed_C[\"Unique_TAXI_ID\"]<1000)]\n",
    "print(\"The correlation coefficient between HR and LEN is {}\".format(df_trimmed_C_2[\"HR\"].corr(df_trimmed_C_2[\"LEN\"])))\n",
    "print(\"The correlation coefficient between WK and LEN is {}\".format(df_trimmed_C_2[\"WK\"].corr(df_trimmed_C_2[\"LEN\"])))\n",
    "print(\"The correlation coefficient between TAXI_ID and LEN is {}\".format(df_trimmed_C_2[\"Unique_TAXI_ID\"].corr(df_trimmed_C_2[\"LEN\"])))"
   ]
  },
  {
   "cell_type": "code",
   "execution_count": 75,
   "id": "a03dd0ea",
   "metadata": {},
   "outputs": [
    {
     "name": "stdout",
     "output_type": "stream",
     "text": [
      "The correlation coefficient between HR and LEN is 0.06396481068829904\n",
      "The correlation coefficient between WK and LEN is -0.08573857625758421\n",
      "The correlation coefficient between TAXI_ID and LEN is -0.016083099314789177\n"
     ]
    }
   ],
   "source": [
    "df_trimmed_C_3 = df_trimmed_C[(df_trimmed_C[\"Unique_TAXI_ID\"]>100) & (df_trimmed_C[\"Unique_TAXI_ID\"]<800)]\n",
    "print(\"The correlation coefficient between HR and LEN is {}\".format(df_trimmed_C_3[\"HR\"].corr(df_trimmed_C_3[\"LEN\"])))\n",
    "print(\"The correlation coefficient between WK and LEN is {}\".format(df_trimmed_C_3[\"WK\"].corr(df_trimmed_C_3[\"LEN\"])))\n",
    "print(\"The correlation coefficient between TAXI_ID and LEN is {}\".format(df_trimmed_C_3[\"Unique_TAXI_ID\"].corr(df_trimmed_C_3[\"LEN\"])))"
   ]
  },
  {
   "cell_type": "markdown",
   "id": "7a19787c",
   "metadata": {},
   "source": [
    "### 5. Data Encoding"
   ]
  },
  {
   "cell_type": "code",
   "execution_count": 101,
   "id": "4e8c0452",
   "metadata": {
    "scrolled": false
   },
   "outputs": [
    {
     "name": "stdout",
     "output_type": "stream",
     "text": [
      "预处理之后数据形状: (521260, 17)\n",
      "         Unique_TAXI_ID_0  Unique_TAXI_ID_1  Unique_TAXI_ID_2  \\\n",
      "0                       0                 0                 0   \n",
      "2                       0                 0                 0   \n",
      "3                       0                 0                 0   \n",
      "4                       0                 0                 0   \n",
      "5                       0                 0                 0   \n",
      "...                   ...               ...               ...   \n",
      "1710663                 1                 1                 0   \n",
      "1710664                 1                 1                 0   \n",
      "1710665                 1                 1                 0   \n",
      "1710666                 1                 1                 0   \n",
      "1710667                 1                 1                 0   \n",
      "\n",
      "         Unique_TAXI_ID_3  Unique_TAXI_ID_4  Unique_TAXI_ID_5  \\\n",
      "0                       0                 0                 0   \n",
      "2                       0                 0                 0   \n",
      "3                       0                 0                 0   \n",
      "4                       0                 0                 0   \n",
      "5                       0                 0                 0   \n",
      "...                   ...               ...               ...   \n",
      "1710663                 1                 1                 0   \n",
      "1710664                 1                 1                 1   \n",
      "1710665                 1                 1                 1   \n",
      "1710666                 1                 1                 1   \n",
      "1710667                 1                 1                 1   \n",
      "\n",
      "         Unique_TAXI_ID_6  Unique_TAXI_ID_7  Unique_TAXI_ID_8  HR_0  HR_1  \\\n",
      "0                       0                 0                 1     0     0   \n",
      "2                       0                 1                 0     0     0   \n",
      "3                       0                 1                 1     0     0   \n",
      "4                       1                 0                 0     0     0   \n",
      "5                       1                 0                 1     0     0   \n",
      "...                   ...               ...               ...   ...   ...   \n",
      "1710663                 1                 1                 0     0     1   \n",
      "1710664                 0                 1                 1     1     0   \n",
      "1710665                 0                 0                 1     1     1   \n",
      "1710666                 0                 1                 0     1     1   \n",
      "1710667                 0                 0                 0     0     1   \n",
      "\n",
      "         HR_2  HR_3  HR_4  WK_0  WK_1  WK_2  \n",
      "0           0     0     1     0     0     1  \n",
      "2           0     0     1     0     0     1  \n",
      "3           0     0     1     0     0     1  \n",
      "4           0     0     1     0     0     1  \n",
      "5           0     0     1     0     0     1  \n",
      "...       ...   ...   ...   ...   ...   ...  \n",
      "1710663     1     0     0     1     0     0  \n",
      "1710664     0     0     0     0     1     1  \n",
      "1710665     0     0     0     0     0     1  \n",
      "1710666     0     0     0     0     0     1  \n",
      "1710667     0     1     1     1     0     1  \n",
      "\n",
      "[521260 rows x 17 columns]\n",
      "['Unique_TAXI_ID_0', 'Unique_TAXI_ID_1', 'Unique_TAXI_ID_2', 'Unique_TAXI_ID_3', 'Unique_TAXI_ID_4', 'Unique_TAXI_ID_5', 'Unique_TAXI_ID_6', 'Unique_TAXI_ID_7', 'Unique_TAXI_ID_8', 'HR_0', 'HR_1', 'HR_2', 'HR_3', 'HR_4', 'WK_0', 'WK_1', 'WK_2']\n"
     ]
    }
   ],
   "source": [
    "outlier_threshold = 3\n",
    "\n",
    "type_C = df_tr[df_tr[\"CALL_TYPE\"]==\"C\"]\n",
    "\n",
    "mean, std = type_C[\"LEN\"].mean(), type_C[\"LEN\"].std()\n",
    "# \"Choose all data, where the trip length is less than 3 standard deviations away from the mean\"\n",
    "# This is to remove outliers. Otherwise, our plots would look very squished (since there are some\n",
    "# VERRRRRY long taxi trips in the dataset)\n",
    "df_trimmed_C = type_C[type_C[\"LEN\"] < mean + outlier_threshold * std]\n",
    "# df_trimmed_C = df_trimmed_C[df_trimmed_C[\"Unique_TAXI_ID\"]<800]\n",
    "\n",
    "all_features = df_trimmed_C[[]]\n",
    "# all_features = df_trimmed_C[[\"Unique_TAXI_ID\",\"HR\",\"WK\"]]\n",
    "\n",
    "# # Convert all features into string so that we can apply pd.get_dummies on it\n",
    "# all_features['WK'] = all_features['WK'].astype(str)\n",
    "# all_features['HR'] = all_features['HR'].astype(str)\n",
    "# all_features['Unique_TAXI_ID'] = all_features['Unique_TAXI_ID'].astype(str)\n",
    "\n",
    "# Create an instance of BinaryEncoder\n",
    "binary_encoder_id = ce.BinaryEncoder(cols=['Unique_TAXI_ID'])\n",
    "binary_encoder_hr = ce.BinaryEncoder(cols=['HR'])\n",
    "binary_encoder_wk = ce.BinaryEncoder(cols=['WK'])\n",
    "\n",
    "# Apply binary encoding to the 'ORIGIN_CALL' column\n",
    "encoded_data_id = binary_encoder_id.fit_transform(df_trimmed_C['Unique_TAXI_ID'])\n",
    "encoded_data_hr = binary_encoder_hr.fit_transform(df_trimmed_C['HR'])\n",
    "encoded_data_wk = binary_encoder_wk.fit_transform(df_trimmed_C['WK'])\n",
    "\n",
    "all_features = pd.concat([all_features, encoded_data_id], axis=1)\n",
    "all_features = pd.concat([all_features, encoded_data_hr], axis=1)\n",
    "all_features = pd.concat([all_features, encoded_data_wk], axis=1)\n",
    "\n",
    "# all_features = pd.get_dummies(all_features)\n",
    "\n",
    "print(f'预处理之后数据形状: {all_features.shape}')\n",
    "print(all_features)\n",
    "\n",
    "cols = list(all_features.columns.values)\n",
    "print(cols)"
   ]
  },
  {
   "cell_type": "code",
   "execution_count": 102,
   "id": "1889d057",
   "metadata": {},
   "outputs": [
    {
     "name": "stdout",
     "output_type": "stream",
     "text": [
      "训练集数据: torch.Size([417008, 17])\n",
      "训练集label: torch.Size([417008, 1])\n",
      "验证集数据: torch.Size([104252, 17])\n",
      "验证集label: torch.Size([104252, 1])\n"
     ]
    }
   ],
   "source": [
    "from sklearn.metrics import mean_squared_error\n",
    "from sklearn.model_selection import train_test_split \n",
    "\n",
    "label = df_trimmed_C[\"LEN\"]\n",
    "train_data = all_features\n",
    "\n",
    "train_features, val_features, train_labels, val_labels = train_test_split(\n",
    "    train_data, label, test_size=0.2, random_state=42)\n",
    "\n",
    "# 训练集\n",
    "train_features = torch.tensor(train_features.values, dtype=torch.float)\n",
    "# 验证集\n",
    "val_features = torch.tensor(val_features.values, dtype=torch.float)\n",
    "\n",
    "train_labels = torch.tensor(train_labels.values, dtype=torch.float)\n",
    "train_labels = train_labels.unsqueeze(1) \n",
    "\n",
    "\n",
    "val_labels = torch.tensor(val_labels.values, dtype=torch.float)\n",
    "val_labels = val_labels.unsqueeze(1)\n",
    "\n",
    "\n",
    "print(f'训练集数据: {train_features.shape}')\n",
    "print(f'训练集label: {train_labels.shape}')\n",
    "print(f'验证集数据: {val_features.shape}')\n",
    "print(f'验证集label: {val_labels.shape}')\n"
   ]
  },
  {
   "cell_type": "code",
   "execution_count": 103,
   "id": "c0e291ee",
   "metadata": {},
   "outputs": [],
   "source": [
    "class myDataset:\n",
    "    def __init__(self, data, label):\n",
    "        self.data = data\n",
    "        self.label = label\n",
    "        \n",
    "    def __len__(self):\n",
    "        return len(self.label)\n",
    "    \n",
    "    def __getitem__(self, idx):\n",
    "        return self.data[idx, :], self.label[idx]\n",
    "\n",
    "train_dataset = myDataset(train_features, train_labels)\n",
    "val_dataset = myDataset(val_features, val_labels)\n",
    "\n",
    "# 变为迭代器\n",
    "train_iter = torch.utils.data.DataLoader(dataset=train_dataset, batch_size=64, shuffle=True, num_workers=4)\n",
    "val_iter = torch.utils.data.DataLoader(dataset=val_dataset, batch_size=64, shuffle=False, num_workers=4)\n",
    "\n",
    "device = torch.device('cuda:0' if torch.cuda.is_available() else 'cpu')"
   ]
  },
  {
   "cell_type": "markdown",
   "id": "d892fe6a",
   "metadata": {},
   "source": [
    "### 6. Conversion of Dataset to Dataloader"
   ]
  },
  {
   "cell_type": "code",
   "execution_count": 104,
   "id": "5266f438",
   "metadata": {},
   "outputs": [],
   "source": [
    "import torch.nn as nn\n",
    "import torch.nn.functional as F\n",
    "\n",
    "# 初始化权重\n",
    "def _weight_init(m):\n",
    "    if isinstance(m, nn.Linear):\n",
    "        nn.init.xavier_uniform_(m.weight)\n",
    "        nn.init.constant_(m.bias, 0)\n",
    "    elif isinstance(m, nn.Conv2d):\n",
    "        nn.init.xavier_uniform_(m.weight)\n",
    "    elif isinstance(m, nn.BatchNorm1d):\n",
    "        nn.init.constant_(m.weight, 1)\n",
    "        nn.init.constant_(m.bias, 0)\n",
    "# 网络\n",
    "class Net(nn.Module):\n",
    "    def __init__(self):\n",
    "        super(Net, self).__init__()\n",
    "        self.fc1 = nn.Linear(17, 512)\n",
    "        self.fc2 = nn.Linear(512,512)\n",
    "        self.fc3 = nn.Linear(512,512)\n",
    "        self.fc4 = nn.Linear(512, 256)\n",
    "        self.fc5 = nn.Linear(256, 1)\n",
    "        self.apply(_weight_init) # 初始化参数\n",
    "    def forward(self, x):\n",
    "        x = F.relu(self.fc1(x))\n",
    "        x = F.relu(self.fc2(x))\n",
    "        x = F.relu(self.fc3(x))\n",
    "        x = F.relu(self.fc4(x))\n",
    "        x = self.fc5(x)\n",
    "        return x\n",
    "\n",
    "# 使用rmse作为自定义得分函数，这也是比赛的判定标准\n",
    "def custom_score(y_true, y_pred):\n",
    "#     rmse = mean_squared_error(np.log1p(y_true), np.log1p(y_pred), squared=False)\n",
    "#     return rmse\n",
    "    return math.sqrt(np.mean((np.array(y_pred)-np.array(y_true))*(np.array(y_pred)-np.array(y_true))))\n",
    "\n",
    "net = Net()\n",
    "criterion = torch.nn.MSELoss() # 损失函数为MSE\n",
    "net = net.to(device) # 将网络和损失函数转化为GPU或CPU\n",
    "criterion = criterion.to(device)\n",
    "optimizer = torch.optim.Adam(params=net.parameters(), lr=0.001, weight_decay=0)"
   ]
  },
  {
   "cell_type": "code",
   "execution_count": 105,
   "id": "7f17783f",
   "metadata": {},
   "outputs": [],
   "source": [
    "# 这是训练函数，分为train和val\n",
    "# train时前向传播后向更新参数\n",
    "# val时只计算损失函数\n",
    "def train(net, data_iter, phase, criterion, optimizer=None):\n",
    "    y_true = []\n",
    "    y_pred = []\n",
    "    mean_loss = []\n",
    "    is_grad = True if phase == 'train' else False\n",
    "    with torch.set_grad_enabled(is_grad):\n",
    "        net.train()\n",
    "        for step, (X, y) in enumerate(data_iter):\n",
    "            X = X.to(device)\n",
    "            y = y.to(device)\n",
    "            out = net(X)\n",
    "            loss = criterion(out, y) # 计算损失\n",
    "            mean_loss.append(loss.item())\n",
    "            \n",
    "            if phase == 'train':\n",
    "                optimizer.zero_grad() # optimizer 0\n",
    "                loss.backward() # back propragation\n",
    "                optimizer.step() # update the paramters\n",
    "\n",
    "            # 将每一个step的结果加入列表，最后统一生产这一个epoch的指标  \n",
    "            # 添加预测值和真实类标签\n",
    "            y_pred.extend(out.detach().cpu().squeeze().numpy().tolist())\n",
    "            y_true.extend(y.detach().cpu().squeeze().numpy().tolist())\n",
    "\n",
    "    # 全量样本的rmse和平均loss\n",
    "    rmse = custom_score(y_true, y_pred)\n",
    "    mean_loss = np.mean(mean_loss)\n",
    "    # 保留4位小数\n",
    "    rmse = np.round(rmse, 4)\n",
    "    mean_loss = np.round(mean_loss, 4)\n",
    "    return mean_loss, rmse"
   ]
  },
  {
   "cell_type": "code",
   "execution_count": 107,
   "id": "2b4f9dd2",
   "metadata": {
    "scrolled": false
   },
   "outputs": [
    {
     "name": "stdout",
     "output_type": "stream",
     "text": [
      "2023-05-24 06:18:20.965481 开始训练结束...\n"
     ]
    },
    {
     "name": "stderr",
     "output_type": "stream",
     "text": [
      "  5%|▌         | 1/20 [00:55<17:28, 55.20s/it]"
     ]
    },
    {
     "name": "stdout",
     "output_type": "stream",
     "text": [
      "\u001b[36m\u001b[40mEpoch: 0 Train loss: 262191.3514 Val loss: 254313.977 Train score: 512.0504 Val score: 504.295\n"
     ]
    },
    {
     "name": "stderr",
     "output_type": "stream",
     "text": [
      " 10%|█         | 2/20 [01:53<17:05, 56.96s/it]"
     ]
    },
    {
     "name": "stdout",
     "output_type": "stream",
     "text": [
      "\u001b[36m\u001b[40mEpoch: 1 Train loss: 252971.2283 Val loss: 247925.901 Train score: 502.9602 Val score: 497.9248\n"
     ]
    },
    {
     "name": "stderr",
     "output_type": "stream",
     "text": [
      " 15%|█▌        | 3/20 [02:43<15:14, 53.77s/it]"
     ]
    },
    {
     "name": "stdout",
     "output_type": "stream",
     "text": [
      "\u001b[36m\u001b[40mEpoch: 2 Train loss: 248486.3305 Val loss: 244685.4021 Train score: 498.4803 Val score: 494.6623\n"
     ]
    },
    {
     "name": "stderr",
     "output_type": "stream",
     "text": [
      " 20%|██        | 4/20 [03:36<14:14, 53.40s/it]"
     ]
    },
    {
     "name": "stdout",
     "output_type": "stream",
     "text": [
      "\u001b[36m\u001b[40mEpoch: 3 Train loss: 245861.5788 Val loss: 242377.6965 Train score: 495.8457 Val score: 492.3129\n"
     ]
    },
    {
     "name": "stderr",
     "output_type": "stream",
     "text": [
      " 25%|██▌       | 5/20 [04:31<13:30, 54.05s/it]"
     ]
    },
    {
     "name": "stdout",
     "output_type": "stream",
     "text": [
      "\u001b[36m\u001b[40mEpoch: 4 Train loss: 244179.6019 Val loss: 240479.8836 Train score: 494.1488 Val score: 490.3841\n"
     ]
    },
    {
     "name": "stderr",
     "output_type": "stream",
     "text": [
      " 30%|███       | 6/20 [05:24<12:30, 53.63s/it]"
     ]
    },
    {
     "name": "stdout",
     "output_type": "stream",
     "text": [
      "\u001b[36m\u001b[40mEpoch: 5 Train loss: 242617.4918 Val loss: 240622.735 Train score: 492.56 Val score: 490.5288\n"
     ]
    },
    {
     "name": "stderr",
     "output_type": "stream",
     "text": [
      " 35%|███▌      | 7/20 [06:17<11:34, 53.42s/it]"
     ]
    },
    {
     "name": "stdout",
     "output_type": "stream",
     "text": [
      "\u001b[36m\u001b[40mEpoch: 6 Train loss: 241649.3662 Val loss: 239261.7242 Train score: 491.577 Val score: 489.1434\n"
     ]
    },
    {
     "name": "stderr",
     "output_type": "stream",
     "text": [
      " 40%|████      | 8/20 [07:09<10:38, 53.20s/it]"
     ]
    },
    {
     "name": "stdout",
     "output_type": "stream",
     "text": [
      "\u001b[36m\u001b[40mEpoch: 7 Train loss: 240648.5864 Val loss: 238381.4593 Train score: 490.5643 Val score: 488.2432\n"
     ]
    },
    {
     "name": "stderr",
     "output_type": "stream",
     "text": [
      " 45%|████▌     | 9/20 [08:03<09:48, 53.47s/it]"
     ]
    },
    {
     "name": "stdout",
     "output_type": "stream",
     "text": [
      "\u001b[36m\u001b[40mEpoch: 8 Train loss: 239662.705 Val loss: 238359.5044 Train score: 489.5513 Val score: 488.2235\n"
     ]
    },
    {
     "name": "stderr",
     "output_type": "stream",
     "text": [
      " 50%|█████     | 10/20 [08:56<08:52, 53.21s/it]"
     ]
    },
    {
     "name": "stdout",
     "output_type": "stream",
     "text": [
      "\u001b[36m\u001b[40mEpoch: 9 Train loss: 238854.3709 Val loss: 240280.6264 Train score: 488.7269 Val score: 490.1759\n"
     ]
    },
    {
     "name": "stderr",
     "output_type": "stream",
     "text": [
      " 55%|█████▌    | 11/20 [09:49<07:58, 53.18s/it]"
     ]
    },
    {
     "name": "stdout",
     "output_type": "stream",
     "text": [
      "\u001b[36m\u001b[40mEpoch: 10 Train loss: 238153.8355 Val loss: 236041.4838 Train score: 488.0083 Val score: 485.8371\n"
     ]
    },
    {
     "name": "stderr",
     "output_type": "stream",
     "text": [
      " 60%|██████    | 12/20 [10:42<07:04, 53.03s/it]"
     ]
    },
    {
     "name": "stdout",
     "output_type": "stream",
     "text": [
      "\u001b[36m\u001b[40mEpoch: 11 Train loss: 237475.0913 Val loss: 234397.725 Train score: 487.3145 Val score: 484.1467\n"
     ]
    },
    {
     "name": "stderr",
     "output_type": "stream",
     "text": [
      " 65%|██████▌   | 13/20 [11:32<06:05, 52.20s/it]"
     ]
    },
    {
     "name": "stdout",
     "output_type": "stream",
     "text": [
      "\u001b[36m\u001b[40mEpoch: 12 Train loss: 236849.0285 Val loss: 233732.0686 Train score: 486.6689 Val score: 483.4568\n"
     ]
    },
    {
     "name": "stderr",
     "output_type": "stream",
     "text": [
      " 70%|███████   | 14/20 [12:24<05:12, 52.02s/it]"
     ]
    },
    {
     "name": "stdout",
     "output_type": "stream",
     "text": [
      "\u001b[36m\u001b[40mEpoch: 13 Train loss: 236133.0591 Val loss: 234810.6265 Train score: 485.9338 Val score: 484.5739\n"
     ]
    },
    {
     "name": "stderr",
     "output_type": "stream",
     "text": [
      " 75%|███████▌  | 15/20 [13:17<04:21, 52.35s/it]"
     ]
    },
    {
     "name": "stdout",
     "output_type": "stream",
     "text": [
      "\u001b[36m\u001b[40mEpoch: 14 Train loss: 235506.7798 Val loss: 233497.0401 Train score: 485.2887 Val score: 483.2164\n"
     ]
    },
    {
     "name": "stderr",
     "output_type": "stream",
     "text": [
      " 80%|████████  | 16/20 [14:11<03:31, 52.76s/it]"
     ]
    },
    {
     "name": "stdout",
     "output_type": "stream",
     "text": [
      "\u001b[36m\u001b[40mEpoch: 15 Train loss: 234944.3392 Val loss: 231848.4222 Train score: 484.7126 Val score: 481.5047\n"
     ]
    },
    {
     "name": "stderr",
     "output_type": "stream",
     "text": [
      " 85%|████████▌ | 17/20 [15:06<02:40, 53.41s/it]"
     ]
    },
    {
     "name": "stdout",
     "output_type": "stream",
     "text": [
      "\u001b[36m\u001b[40mEpoch: 16 Train loss: 234492.0436 Val loss: 231284.9397 Train score: 484.2486 Val score: 480.9217\n"
     ]
    },
    {
     "name": "stderr",
     "output_type": "stream",
     "text": [
      " 90%|█████████ | 18/20 [16:01<01:48, 54.11s/it]"
     ]
    },
    {
     "name": "stdout",
     "output_type": "stream",
     "text": [
      "\u001b[36m\u001b[40mEpoch: 17 Train loss: 233930.9572 Val loss: 232752.294 Train score: 483.6592 Val score: 482.4428\n"
     ]
    },
    {
     "name": "stderr",
     "output_type": "stream",
     "text": [
      " 95%|█████████▌| 19/20 [16:59<00:55, 55.34s/it]"
     ]
    },
    {
     "name": "stdout",
     "output_type": "stream",
     "text": [
      "\u001b[36m\u001b[40mEpoch: 18 Train loss: 233479.3027 Val loss: 231107.6002 Train score: 483.195 Val score: 480.7374\n"
     ]
    },
    {
     "name": "stderr",
     "output_type": "stream",
     "text": [
      "100%|██████████| 20/20 [17:54<00:00, 53.74s/it]"
     ]
    },
    {
     "name": "stdout",
     "output_type": "stream",
     "text": [
      "\u001b[36m\u001b[40mEpoch: 19 Train loss: 232977.5332 Val loss: 229807.1135 Train score: 482.6747 Val score: 479.3803\n",
      "2023-05-24 06:36:15.757237 训练结束...\n"
     ]
    },
    {
     "name": "stderr",
     "output_type": "stream",
     "text": [
      "\n"
     ]
    }
   ],
   "source": [
    "from tqdm import tqdm\n",
    "from datetime import datetime\n",
    "from colorama import Fore, Back\n",
    "\n",
    "epochs = 100\n",
    "loss_list_C = []\n",
    "print(f'{datetime.now()} 开始训练结束...')\n",
    "for epoch in tqdm(range(epochs)):\n",
    "    train_mean_loss, train_score = train(net=net, \n",
    "                                         data_iter=train_iter, \n",
    "                                         phase='train', \n",
    "                                         criterion=criterion, \n",
    "                                         optimizer=optimizer)\n",
    "    \n",
    "    val_mean_loss, val_score = train(net=net, \n",
    "                                     data_iter=train_iter, \n",
    "                                     phase='val', \n",
    "                                     criterion=criterion, \n",
    "                                     optimizer=None)\n",
    "    print(Fore.CYAN + Back.BLACK, end='')\n",
    "    tqdm.write(f'Epoch: {epoch} Train loss: {train_mean_loss} Val loss: {val_mean_loss}', end=' ')\n",
    "    tqdm.write(f'Train score: {train_score} Val score: {val_score}')\n",
    "    loss_list_C.append(train_score)\n",
    "\n",
    "print(f'{datetime.now()} 训练结束...')"
   ]
  },
  {
   "cell_type": "markdown",
   "id": "b8fa288f",
   "metadata": {},
   "source": [
    "### 8. Model Saving"
   ]
  },
  {
   "cell_type": "code",
   "execution_count": 111,
   "id": "fecefecd",
   "metadata": {},
   "outputs": [],
   "source": [
    "# print(\"Optimizer's state_dict:\")\n",
    "# for var_name in optimizer.state_dict():\n",
    "#     print(var_name, \"\\t\", optimizer.state_dict()[var_name])\n",
    "# val_features = val_features.to(device)\n",
    "torch.save(net.state_dict(), '../model/modelC.pth')"
   ]
  }
 ],
 "metadata": {
  "kernelspec": {
   "display_name": "Python 3 (ipykernel)",
   "language": "python",
   "name": "python3"
  },
  "language_info": {
   "codemirror_mode": {
    "name": "ipython",
    "version": 3
   },
   "file_extension": ".py",
   "mimetype": "text/x-python",
   "name": "python",
   "nbconvert_exporter": "python",
   "pygments_lexer": "ipython3",
   "version": "3.10.8"
  }
 },
 "nbformat": 4,
 "nbformat_minor": 5
}
